{
 "cells": [
  {
   "cell_type": "markdown",
   "id": "7731f3a9",
   "metadata": {},
   "source": [
    "# 대여소별 대여량 top5, 반납량 top5출력 \n",
    "## -총 2년 기준(2020~2021)- "
   ]
  },
  {
   "cell_type": "code",
   "execution_count": 41,
   "id": "34f2a6cc",
   "metadata": {},
   "outputs": [],
   "source": [
    "import pandas as pd\n",
    "\n",
    "df=pd.read_csv(r\"C:\\Users\\LG\\ACORN 프로젝트\\강남대여소2020~21.csv\")"
   ]
  },
  {
   "cell_type": "code",
   "execution_count": 42,
   "id": "6b834edf",
   "metadata": {},
   "outputs": [
    {
     "name": "stdout",
     "output_type": "stream",
     "text": [
      "Index(['대여 대여소명', '반납일시', '반납대여소명', '이용시간', '이용거리', '날짜', '시간대'], dtype='object')\n"
     ]
    }
   ],
   "source": [
    "print(df.columns)"
   ]
  },
  {
   "cell_type": "markdown",
   "id": "b27ca913",
   "metadata": {},
   "source": [
    "## 대여량별 top 5, bottom 5 dataframe으로 출력 "
   ]
  },
  {
   "cell_type": "code",
   "execution_count": 43,
   "id": "28d19586",
   "metadata": {},
   "outputs": [
    {
     "name": "stdout",
     "output_type": "stream",
     "text": [
      "상위 5개 대여소 대여량\n",
      "              대여 대여소명    대여량\n",
      "0          현대고등학교 건너편  60085\n",
      "1  삼호물산버스정류장(23370) 옆  35724\n",
      "2        포스코사거리(기업은행)  33433\n",
      "3               자곡사거리  31547\n",
      "4        압구정역 2번 출구 옆  26506\n",
      "\n",
      "하위 5개 대여소 대여량\n",
      "              대여 대여소명  대여량\n",
      "0   구룡터널 입구(개포1단지아파트)  344\n",
      "1          청담역 11번 출구  634\n",
      "2  개포1단지아파트 입구 (보도육교)  873\n",
      "3             윗반마을 입구  893\n",
      "4      대모산입구역 7번 출구 앞  960\n",
      "\n",
      "전체 대여량:  1396980\n"
     ]
    }
   ],
   "source": [
    "# 대여 대여소별 대여량 계산\n",
    "rental_counts = df['대여 대여소명'].value_counts()\n",
    "\n",
    "# 상위 5개 대여소와 하위 5개 대여소 대여량 정보를 데이터프레임으로 변환\n",
    "top5 = rental_counts.nlargest(5).reset_index()\n",
    "top5.columns = ['대여 대여소명', '대여량']\n",
    "\n",
    "bottom5 = rental_counts.nsmallest(5).reset_index()\n",
    "bottom5.columns = ['대여 대여소명', '대여량']\n",
    "\n",
    "# 전체 대여량 계산\n",
    "total_rentals = rental_counts.sum()\n",
    "\n",
    "print(\"상위 5개 대여소 대여량\")\n",
    "print(top5)\n",
    "\n",
    "print(\"\\n하위 5개 대여소 대여량\")\n",
    "print(bottom5)\n",
    "\n",
    "print(\"\\n전체 대여량: \",total_rentals)"
   ]
  },
  {
   "cell_type": "markdown",
   "id": "44f0e52f",
   "metadata": {},
   "source": [
    "## 반납량별 top5, bottom5 dataframe으로 출력"
   ]
  },
  {
   "cell_type": "code",
   "execution_count": 44,
   "id": "607d5a3c",
   "metadata": {},
   "outputs": [
    {
     "name": "stdout",
     "output_type": "stream",
     "text": [
      "상위 5개 반납 대여소\n",
      "          반납대여소명    반납량\n",
      "0     현대고등학교 건너편  28479\n",
      "1   포스코사거리(기업은행)  24451\n",
      "2     수서역 5번출구 뒤  22093\n",
      "3    대청역 1번출구  뒤  20485\n",
      "4  3호선 매봉역 3번출구앞  17351\n",
      "\n",
      "\n",
      "하위 5개 반납 대여소\n",
      "             반납대여소명  반납량\n",
      "0    북한산힐스테이트 7차아파트    1\n",
      "1    마곡수명산파크3단지 교차로    1\n",
      "2           버스정류장 앞    1\n",
      "3       삼성사이버빌리지아파트    1\n",
      "4  수명산파크 4단지 411동 앞    1\n"
     ]
    }
   ],
   "source": [
    "# 반납 대여소별 반납량 계산\n",
    "return_counts = df['반납대여소명'].value_counts()\n",
    "\n",
    "# 상위 5개 반납 대여소와 하위 5개 반납 대여소를 데이터프레임으로 변환\n",
    "top5_return = return_counts.nlargest(5).reset_index()\n",
    "top5_return.columns = ['반납대여소명', '반납량']\n",
    "\n",
    "bottom5_return = return_counts.nsmallest(5).reset_index()\n",
    "bottom5_return.columns = ['반납대여소명', '반납량']\n",
    "\n",
    "print(\"상위 5개 반납 대여소\")\n",
    "print(top5_return)\n",
    "print()\n",
    "\n",
    "print(\"\\n하위 5개 반납 대여소\")\n",
    "print(bottom5_return)"
   ]
  }
 ],
 "metadata": {
  "kernelspec": {
   "display_name": "Python 3 (ipykernel)",
   "language": "python",
   "name": "python3"
  },
  "language_info": {
   "codemirror_mode": {
    "name": "ipython",
    "version": 3
   },
   "file_extension": ".py",
   "mimetype": "text/x-python",
   "name": "python",
   "nbconvert_exporter": "python",
   "pygments_lexer": "ipython3",
   "version": "3.11.5"
  }
 },
 "nbformat": 4,
 "nbformat_minor": 5
}
