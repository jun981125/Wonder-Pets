{
  "nbformat": 4,
  "nbformat_minor": 0,
  "metadata": {
    "colab": {
      "private_outputs": true,
      "provenance": []
    },
    "kernelspec": {
      "name": "python3",
      "display_name": "Python 3"
    },
    "language_info": {
      "name": "python"
    }
  },
  "cells": [
    {
      "cell_type": "code",
      "execution_count": null,
      "metadata": {
        "id": "rrGaqGp52Ezy"
      },
      "outputs": [],
      "source": [
        "from google.colab import drive\n",
        "drive.mount('/content/drive')"
      ]
    },
    {
      "cell_type": "code",
      "source": [
        "import pandas as pd\n",
        "from tabulate import tabulate\n",
        "from sklearn import svm, metrics\n",
        "from sklearn.model_selection import train_test_split\n",
        "import matplotlib.pyplot as plt\n",
        "from sklearn.preprocessing import StandardScaler\n",
        "import seaborn as sns\n",
        "from sklearn import metrics\n",
        "from sklearn.metrics import r2_score\n",
        "\n",
        "# 데이터 불러오기\n",
        "data_2020 = pd.read_csv(r'/content/drive/MyDrive/Acorn/Project/2020/real_final_2020.csv')\n",
        "data_2021 = pd.read_csv(r'/content/drive/MyDrive/Acorn/Project/2021/real_final_2021.csv')\n",
        "data_2022 = pd.read_csv(r'/content/drive/MyDrive/Acorn/Project/2022/real_final_2022.csv')\n",
        "\n",
        "data_2020['대여소ID'] = data_2020['대여소ID'].str[3:].astype(int)\n",
        "data_2021['대여소ID'] = data_2021['대여소ID'].str[3:].astype(int)\n",
        "data_2022['대여소ID'] = data_2022['대여소ID'].str[3:].astype(int)\n"
      ],
      "metadata": {
        "id": "XBAR0iBW70jy"
      },
      "execution_count": null,
      "outputs": []
    },
    {
      "cell_type": "code",
      "source": [
        "print('2020 데이터')\n",
        "print(tabulate(data_2020.head(3), headers='keys', tablefmt='psql', showindex=True))\n",
        "print()\n",
        "print('2021 데이터')\n",
        "print(tabulate(data_2021.head(3), headers='keys', tablefmt='psql', showindex=True))\n",
        "print()\n",
        "print('2022 데이터')\n",
        "print(tabulate(data_2022.head(3), headers='keys', tablefmt='psql', showindex=True))\n",
        "print()\n",
        "print('합쳐진 데이터')\n",
        "df = pd.concat([data_2020, data_2021,data_2022], axis=0)\n",
        "print(tabulate(df.head(3), headers='keys', tablefmt='psql', showindex=True))"
      ],
      "metadata": {
        "id": "4EB7l7Bq2qEd"
      },
      "execution_count": null,
      "outputs": []
    },
    {
      "cell_type": "code",
      "source": [
        "import pandas as pd\n",
        "from tabulate import tabulate\n",
        "from sklearn import svm, metrics\n",
        "from sklearn.model_selection import train_test_split\n",
        "import matplotlib.pyplot as plt\n",
        "from sklearn.preprocessing import StandardScaler\n",
        "import seaborn as sns\n",
        "from sklearn import metrics\n",
        "from sklearn.metrics import r2_score\n",
        "\n",
        "\n",
        "# 데이터 전처리\n",
        "# 필요한 특성 선택 및 가공\n",
        "features = ['시간대', '날씨', '평균기온(°C)', 'Pm2.5', '유동인구(명)', '년', '월', '일']\n",
        "\n",
        "X = df[features]\n",
        "y = df['대여건수']\n",
        "\n",
        "# 훈련 데이터와 테스트 데이터로 분리\n",
        "X_train, X_test, y_train, y_test = train_test_split(X, y, test_size=0.2, random_state=42)\n",
        "\n",
        "# SVM 회귀 모델 생성 및 학습\n",
        "model = svm.SVR(C=1.0, epsilon=0.2) # Support Vector Regression 모델\n",
        "model.fit(X_train, y_train)\n",
        "\n",
        "# 테스트 데이터에 대한 예측\n",
        "predictions = model.predict(X_test)\n",
        "print('예측값 : ', predictions[:10])\n",
        "print('실제값 : ', y_test[:10].values)\n",
        "\n",
        "# 모델 평가\n",
        "mse = metrics.mean_squared_error(y_test, predictions)\n",
        "print('평균 제곱 오차(MSE) : ', mse)\n",
        "\n",
        "# 새로운 데이터로 대여건수 예측\n",
        "new_data = pd.DataFrame({'시간대': [15], '날씨': [1], '평균기온(°C)': [5.0], 'Pm2.5': [20.0], '유동인구(명)': [30000.0], '년': [2022], '월':[5], '일':[12]})\n",
        "\n",
        "# 데이터 표준화\n",
        "scaler = StandardScaler()\n",
        "X_scaled = scaler.fit_transform(new_data)\n",
        "\n",
        "new_data_scaled = scaler.transform(X_scaled)\n",
        "prediction = model.predict(new_data_scaled)\n",
        "print(f'예측 대여건수: {prediction}')\n",
        "\n",
        "# R² 값을 계산\n",
        "r2 = r2_score(y_test, prediction)\n",
        "\n",
        "# R² 값을 출력\n",
        "print(f'R-squared: {r2}')"
      ],
      "metadata": {
        "id": "rz6BA8yp29xO"
      },
      "execution_count": null,
      "outputs": []
    },
    {
      "cell_type": "code",
      "source": [
        "# 데이터 전처리\n",
        "# 필요한 특성 선택 및 가공\n",
        "features = ['시간대', '날씨', '평균기온(°C)', 'Pm2.5', '유동인구(명)', '년', '월', '일']\n",
        "\n",
        "X = df[features]\n",
        "y = df['반납건수']\n",
        "\n",
        "# 훈련 데이터와 테스트 데이터로 분리\n",
        "X_train, X_test, y_train, y_test = train_test_split(X, y, test_size=0.2, random_state=42)\n",
        "\n",
        "# SVM 회귀 모델 생성 및 학습\n",
        "model = svm.SVR(C=0.1,shrinking=False)  # Support Vector Regression 모델\n",
        "model.fit(X_train, y_train)\n",
        "\n",
        "# 테스트 데이터에 대한 예측\n",
        "predictions = model.predict(X_test)\n",
        "print('예측값 : ', predictions[:10])\n",
        "print('실제값 : ', y_test[:10].values)\n",
        "\n",
        "# 모델 평가\n",
        "mse = metrics.mean_squared_error(y_test, predictions)\n",
        "print('평균 제곱 오차(MSE) : ', mse)\n",
        "\n",
        "# 새로운 데이터로 대여건수 예측\n",
        "new_data = pd.DataFrame({'시간대': [15], '날씨': [1], '평균기온(°C)': [5.0], 'Pm2.5': [20.0], '유동인구(명)': [30000.0], '년': [2022], '월':[5], '일':[12]})\n",
        "\n",
        "# 데이터 표준화\n",
        "scaler = StandardScaler()\n",
        "X_scaled = scaler.fit_transform(new_data)\n",
        "\n",
        "new_data_scaled = scaler.transform(X_scaled)\n",
        "prediction = model.predict(new_data_scaled)\n",
        "print(f'예측 대여건수: {prediction}')\n",
        "\n",
        "# R² 값을 계산\n",
        "r2 = r2_score(y_test, prediction)\n",
        "\n",
        "# R² 값을 출력\n",
        "print(f'R-squared: {r2}')"
      ],
      "metadata": {
        "id": "zi48dQFX85Ro"
      },
      "execution_count": null,
      "outputs": []
    },
    {
      "cell_type": "code",
      "source": [
        "from sklearn.svm import SVR\n",
        "from sklearn.metrics import r2_score, mean_squared_error, mean_absolute_error\n",
        "from sklearn.preprocessing import PolynomialFeatures\n",
        "from sklearn.model_selection import train_test_split\n",
        "import numpy as np\n",
        "\n",
        "# SVM 회귀 모델 평가 함수 정의\n",
        "def evaluate_svm_model(model, X_train, y_train, X_test, y_test, poly_degree):\n",
        "    poly = PolynomialFeatures(degree=poly_degree)\n",
        "    X_train_poly = poly.fit_transform(X_train)\n",
        "    X_test_poly = poly.transform(X_test)\n",
        "\n",
        "    model.fit(X_train_poly, y_train)\n",
        "    y_pred = model.predict(X_test_poly)\n",
        "\n",
        "    r2 = r2_score(y_test, y_pred)\n",
        "    mse = mean_squared_error(y_test, y_pred)\n",
        "    rmse = np.sqrt(mse)\n",
        "    mae = mean_absolute_error(y_test, y_pred)\n",
        "\n",
        "    print(\"R-squared (결정 계수):\", r2)\n",
        "    print(\"평균 제곱 오차:\", mse)\n",
        "    print(\"평균 제곱근 오차:\", rmse)\n",
        "    print(\"평균 절대 오차:\", mae)\n",
        "\n",
        "# SVM 모델 생성\n",
        "svm_model = SVR(kernel='linear')  # 선형 커널을 사용하는 SVM 회귀 모델\n",
        "\n",
        "# 예시 데이터 준비 (X_train, X_test, y1_train, y1_test)\n",
        "# ... (데이터를 준비하는 코드를 입력)\n",
        "\n",
        "# 모델 평가\n",
        "print(\"SVM 회귀 모델 평가:\")\n",
        "evaluate_svm_model(svm_model, X_train, y1_train, X_test, y1_test, poly_degree=3)\n"
      ],
      "metadata": {
        "id": "ZszrJGhuty1P"
      },
      "execution_count": null,
      "outputs": []
    }
  ]
}