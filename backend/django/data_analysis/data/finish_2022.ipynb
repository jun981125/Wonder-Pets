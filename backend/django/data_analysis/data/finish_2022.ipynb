{
  "nbformat": 4,
  "nbformat_minor": 0,
  "metadata": {
    "colab": {
      "private_outputs": true,
      "provenance": []
    },
    "kernelspec": {
      "name": "python3",
      "display_name": "Python 3"
    },
    "language_info": {
      "name": "python"
    }
  },
  "cells": [
    {
      "cell_type": "code",
      "execution_count": null,
      "metadata": {
        "id": "dC3tVkBN1Ivp"
      },
      "outputs": [],
      "source": [
        "from google.colab import drive\n",
        "drive.mount('/content/drive')"
      ]
    },
    {
      "cell_type": "code",
      "source": [
        "import pandas as pd\n",
        "from tabulate import tabulate"
      ],
      "metadata": {
        "id": "4QTLhYNU1NtO"
      },
      "execution_count": null,
      "outputs": []
    },
    {
      "cell_type": "code",
      "source": [
        "df1=pd.read_csv(r'/content/drive/MyDrive/Acorn/Project/2022data/22년5분데이터.csv')\n",
        "print(tabulate(df1.head(10), headers='keys', tablefmt='psql', showindex=True))\n",
        "print(len(df1[df1['대여소명']=='3호선 매봉역 3번출구앞']))"
      ],
      "metadata": {
        "id": "Kk-6OOuw1OrG"
      },
      "execution_count": null,
      "outputs": []
    },
    {
      "cell_type": "code",
      "source": [
        "final_df=pd.read_csv(r'/content/drive/MyDrive/Acorn/Project/df_final2022.csv')\n",
        "print(tabulate(final_df.head(10), headers='keys', tablefmt='psql', showindex=True))\n",
        "print(len(final_df[final_df['대여 대여소명']=='3호선 매봉역 3번출구앞']))"
      ],
      "metadata": {
        "id": "43S0lb-e1jEf"
      },
      "execution_count": null,
      "outputs": []
    },
    {
      "cell_type": "code",
      "source": [
        "# 날짜 형식 변경\n",
        "df1['기준_날짜'] = pd.to_datetime(df1['기준_날짜'], format='%Y%m%d')\n",
        "\n",
        "# 날짜를 원하는 형식으로 다시 문자열로 변환\n",
        "df1['기준_날짜'] = df1['기준_날짜'].dt.strftime('%Y-%m-%d')\n",
        "\n",
        "# '기준_날짜', '시간대', '대여소명'을 기준으로 두 데이터프레임을 병합-  대여건수랑 반납건수가 둘다 없는 것은 삭제하기 위해서 inner join 사용 -> 시간대는 있지만, 그에 따른 대여건수랑 반납건수가 없기에 inner join으로 그 시간대에 있는 정보만 가져옴\n",
        "merged_df = pd.merge(final_df,df1, left_on=['날짜', '시간대', '대여 대여소명'], right_on=['기준_날짜', '기준_시간대', '대여소명'],  how='inner')\n",
        "\n",
        "# 결과 출력\n",
        "print(tabulate(merged_df.head(10), headers='keys', tablefmt='psql', showindex=True))"
      ],
      "metadata": {
        "id": "y1ng91Wy1oof"
      },
      "execution_count": null,
      "outputs": []
    },
    {
      "cell_type": "code",
      "source": [
        "# 주어진 데이터프레임에서 대여소번호, 대여소명, 기준_날짜 열을 제외하고 새로운 데이터프레임 생성\n",
        "final_df = merged_df.drop(['대여소번호', '대여소명', '기준_날짜'], axis=1)\n",
        "\n",
        "# 대여소 ID 칼럼을 맨 앞으로 이동\n",
        "cols = list(final_df.columns)\n",
        "cols = ['대여소ID'] + [col for col in cols if col != '대여소ID']\n",
        "final_df = final_df[cols]\n",
        "\n",
        "#대여 대여소 칼럼명 변경\n",
        "final_df = final_df.rename(columns={'대여 대여소명': '대여소명'})"
      ],
      "metadata": {
        "id": "JsEXFzzW1p6u"
      },
      "execution_count": null,
      "outputs": []
    },
    {
      "cell_type": "code",
      "source": [
        "print(final_df.shape)\n",
        "\n",
        "print(final_df[final_df['대여소명']=='3호선 매봉역 3번출구앞'])\n",
        "print(tabulate(final_df.head(100), headers='keys', tablefmt='psql', showindex=True))"
      ],
      "metadata": {
        "id": "snbnsdr_1rK-"
      },
      "execution_count": null,
      "outputs": []
    },
    {
      "cell_type": "code",
      "source": [
        "final_df.to_csv('/content/drive/MyDrive/Acorn/Project/df_final_final2022_.csv', index=False)"
      ],
      "metadata": {
        "id": "TsA8rUicyTsD"
      },
      "execution_count": null,
      "outputs": []
    }
  ]
}