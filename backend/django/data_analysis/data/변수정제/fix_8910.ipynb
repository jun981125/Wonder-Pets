{
  "nbformat": 4,
  "nbformat_minor": 0,
  "metadata": {
    "colab": {
      "private_outputs": true,
      "provenance": []
    },
    "kernelspec": {
      "name": "python3",
      "display_name": "Python 3"
    },
    "language_info": {
      "name": "python"
    }
  },
  "cells": [
    {
      "cell_type": "code",
      "execution_count": null,
      "metadata": {
        "id": "lhyYo63P9EkA"
      },
      "outputs": [],
      "source": [
        "from google.colab import drive\n",
        "drive.mount('/content/drive')"
      ]
    },
    {
      "cell_type": "code",
      "source": [
        "import pandas as pd\n",
        "import glob\n",
        "\n",
        "# 파일 경로에 대한 리스트 가져오기\n",
        "file_paths = glob.glob('/content/drive/MyDrive/Acorn/Project/8월/tpss_bcycl_od_statnhm_202208*.csv')  # 파일명_로 시작하는 모든 CSV 파일을 대상으로 함\n",
        "\n",
        "# 각 파일에 대해 작업 수행\n",
        "for file_path in file_paths:\n",
        "    # CSV 파일 읽기\n",
        "    df = pd.read_csv(file_path)\n",
        "\n",
        "    # 필요한 열 제외하기\n",
        "    columns_to_drop = ['집계_기준', '시작_대여소명', '종료_대여소명']\n",
        "    df = df.drop(columns=columns_to_drop)\n",
        "\n",
        "    # 원본 파일 덮어쓰기\n",
        "    df.to_csv(file_path, index=False)  # 새 파일로 저장\n",
        "\n",
        "    print(f\"{file_path} 처리 완료 및 덮어쓰기 완료\")\n"
      ],
      "metadata": {
        "id": "iIoJ8bZ79Gx7"
      },
      "execution_count": null,
      "outputs": []
    },
    {
      "cell_type": "code",
      "source": [
        "import pandas as pd\n",
        "import glob\n",
        "\n",
        "# 파일 경로에 대한 리스트 가져오기\n",
        "file_paths = glob.glob('/content/drive/MyDrive/Acorn/Project/8월/tpss_bcycl_od_statnhm_202208*.csv')  # 파일명_로 시작하는 모든 CSV 파일을 대상으로 함\n",
        "\n",
        "# 각 파일에 대해 작업 수행\n",
        "for file_path in file_paths:\n",
        "    # CSV 파일 읽기\n",
        "    df = pd.read_csv(file_path)\n",
        "\n",
        "    # 칼럼 이름 변경 및 삭제\n",
        "    df = df.rename(columns={\n",
        "        '기준_시간':'기준_시간대'\n",
        "    })\n",
        "\n",
        "    # 원본 파일 덮어쓰기\n",
        "    df.to_csv(file_path, index=False)  # 새 파일로 저장\n",
        "\n",
        "    print(f\"{file_path} 처리 완료 및 덮어쓰기 완료\")\n"
      ],
      "metadata": {
        "id": "vRpBjh8aC_M6"
      },
      "execution_count": null,
      "outputs": []
    },
    {
      "cell_type": "code",
      "source": [
        "import pandas as pd\n",
        "import glob\n",
        "\n",
        "# 파일 경로에 대한 리스트 가져오기\n",
        "file_paths = glob.glob('/content/drive/MyDrive/Acorn/Project/8월/tpss_bcycl_od_statnhm_202209*.csv')  # 파일명_로 시작하는 모든 CSV 파일을 대상으로 함\n",
        "\n",
        "# 각 파일에 대해 작업 수행\n",
        "for file_path in file_paths:\n",
        "    # CSV 파일 읽기\n",
        "    df = pd.read_csv(file_path)\n",
        "\n",
        "    # 칼럼 이름 변경 및 삭제\n",
        "    df = df.rename(columns={\n",
        "        '기준일자': '기준_날짜',\n",
        "        '기준시간대': '기준_시간대',\n",
        "        '시작대여소ID': '시작_대여소_ID',\n",
        "        '종료대여소ID': '종료_대여소_ID',\n",
        "        '전체건수': '전체_건수',\n",
        "        '전체이용시간(분)': '전체_이용_분',\n",
        "        '전체이용거리(M)': '전체_이용_거리'\n",
        "    })\n",
        "\n",
        "    # 불필요한 '구분코드' 열 삭제\n",
        "    df = df.drop(columns=['구분코드','시작대여소명','종료대여소명'])\n",
        "\n",
        "    # 원본 파일 덮어쓰기\n",
        "    df.to_csv(file_path, index=False)  # 새 파일로 저장\n",
        "\n",
        "    print(f\"{file_path} 처리 완료 및 덮어쓰기 완료\")\n"
      ],
      "metadata": {
        "id": "rvg3tpMpDtq6"
      },
      "execution_count": null,
      "outputs": []
    },
    {
      "cell_type": "code",
      "source": [
        "import pandas as pd\n",
        "import glob\n",
        "\n",
        "# 파일 경로에 대한 리스트 가져오기\n",
        "file_paths = glob.glob('/content/drive/MyDrive/Acorn/Project/10월/tpss_bcycl_od_statnhm_202210*.csv')  # 파일명_로 시작하는 모든 CSV 파일을 대상으로 함\n",
        "\n",
        "# 각 파일에 대해 작업 수행\n",
        "for file_path in file_paths:\n",
        "    # CSV 파일 읽기\n",
        "    df = pd.read_csv(file_path)\n",
        "\n",
        "    # 불필요한 '구분코드' 열 삭제\n",
        "    df = df.drop(columns=['시작_대여소명','종료_대여소명'])\n",
        "\n",
        "    # 원본 파일 덮어쓰기 (기존 파일을 덮어쓰므로 백업이 필요합니다)\n",
        "    df.to_csv(file_path, index=False)  # 새 파일로 저장\n",
        "\n",
        "    print(f\"{file_path} 처리 완료 및 덮어쓰기 완료\")\n"
      ],
      "metadata": {
        "id": "R20XbQ2PEpI8"
      },
      "execution_count": null,
      "outputs": []
    }
  ]
}