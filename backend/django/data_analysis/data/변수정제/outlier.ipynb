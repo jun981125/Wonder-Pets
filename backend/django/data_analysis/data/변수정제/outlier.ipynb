{
  "cells": [
    {
      "cell_type": "code",
      "execution_count": null,
      "metadata": {
        "id": "Z8v-ha-O4qDO"
      },
      "outputs": [],
      "source": [
        "from google.colab import drive\n",
        "drive.mount('/content/drive')"
      ]
    },
    {
      "cell_type": "code",
      "execution_count": null,
      "metadata": {
        "id": "6nPL8RwA4ySv"
      },
      "outputs": [],
      "source": [
        "import pandas as pd\n",
        "import numpy as np\n",
        "from tabulate import tabulate\n",
        "\n",
        "# 데이터 불러오기\n",
        "data_2020 = pd.read_csv(r'/content/drive/MyDrive/Acorn/Project/real_final_2020.csv')\n",
        "data_2021 = pd.read_csv(r'/content/drive/MyDrive/Acorn/Project/real_final_2021.csv')\n",
        "data_2022 = pd.read_csv(r'/content/drive/MyDrive/Acorn/Project/real_final_2022.csv')\n",
        "\n",
        "data_2020['대여소ID'] = data_2020['대여소ID'].str[3:].astype(int)\n",
        "data_2021['대여소ID'] = data_2021['대여소ID'].str[3:].astype(int)\n",
        "data_2022['대여소ID'] = data_2022['대여소ID'].str[3:].astype(int)\n",
        "\n",
        "print('합쳐진 데이터')\n",
        "df = pd.concat([data_2020, data_2021,data_2022], axis=0)\n",
        "print(tabulate(df.head(3), headers='keys', tablefmt='psql', showindex=True))"
      ]
    },
    {
      "cell_type": "code",
      "execution_count": null,
      "metadata": {
        "id": "o36h2QdSAe46"
      },
      "outputs": [],
      "source": [
        "# 데이터프레임에서 'Pm2.5' 열의 최댓값과 최솟값 확인\n",
        "max_pm25 = df['Pm2.5'].max()\n",
        "min_pm25 = df['Pm2.5'].min()\n",
        "\n",
        "print(f\"Pm2.5 열의 최댓값: {max_pm25}\")\n",
        "print(f\"Pm2.5 열의 최솟값: {min_pm25}\")\n",
        "\n",
        "max_tem = df['평균기온(°C)'].max()\n",
        "min_tem = df['평균기온(°C)'].min()\n",
        "\n",
        "print(f\"평균기온(°C) 열의 최댓값: {max_tem}\")\n",
        "print(f\"평균기온(°C) 열의 최솟값: {min_tem}\")\n",
        "\n",
        "max_people = df['유동인구(명)'].max()\n",
        "min_people = df['유동인구(명)'].min()\n",
        "\n",
        "print(f\"유동인구(명) 열의 최댓값: {max_people}\")\n",
        "print(f\"유동인구(명) 열의 최솟값: {min_people}\")\n"
      ]
    },
    {
      "cell_type": "code",
      "execution_count": null,
      "metadata": {
        "id": "N7Z_zhdY5GMu"
      },
      "outputs": [],
      "source": [
        "def replace_outliers_with_mean_iqr(column):\n",
        "    Q1 = column.quantile(0.25)\n",
        "    Q3 = column.quantile(0.75)\n",
        "    IQR = Q3 - Q1\n",
        "    \n",
        "    lower_bound = Q1 - 1.5 * IQR\n",
        "    upper_bound = Q3 + 1.5 * IQR\n",
        "    \n",
        "    outliers_lower = column < lower_bound\n",
        "    outliers_upper = column > upper_bound\n",
        "    \n",
        "    column[outliers_lower] = column.median()\n",
        "    column[outliers_upper] = column.median()\n",
        "    \n",
        "    num_replaced = outliers_lower.sum() + outliers_upper.sum()\n",
        "    \n",
        "    return column, num_replaced\n",
        "\n",
        "# '평균기온(°C)', 'Pm2.5', '유동인구(명)' 열에 대해 이상치 처리\n",
        "columns_to_process = ['평균기온(°C)', 'Pm2.5', '유동인구(명)']\n",
        "for col in columns_to_process:\n",
        "    df[col], num_replaced = replace_outliers_with_mean_iqr(df[col])\n",
        "    print(f\"열 '{col}'에서 이상치로 대체된 행의 개수: {num_replaced}\")\n"
      ]
    },
    {
      "cell_type": "markdown",
      "metadata": {
        "id": "blyZI51B6Xn2"
      },
      "source": [
        "# LGBM"
      ]
    },
    {
      "cell_type": "code",
      "execution_count": null,
      "metadata": {
        "id": "O_ojYSns5r_V"
      },
      "outputs": [],
      "source": [
        "import pandas as pd\n",
        "import numpy as np\n",
        "from sklearn.model_selection import train_test_split\n",
        "from sklearn.metrics import r2_score, mean_squared_error, explained_variance_score, mean_absolute_error\n",
        "import lightgbm as lgb\n",
        "import xgboost as xgb\n",
        "from sklearn.metrics import accuracy_score\n",
        "from sklearn.metrics import confusion_matrix\n",
        "\n",
        "# 독립변수 및 종속변수 설정\n",
        "columns_to_keep = [col for col in df.columns if col not in ['대여건수', '반납건수']]\n",
        "train_x = df[columns_to_keep]\n",
        "train_y1 = df['대여건수']\n",
        "train_y2 = df['반납건수']\n",
        "\n",
        "# 데이터 분할\n",
        "X_train, X_test, y1_train, y1_test = train_test_split(train_x, train_y1, test_size=0.2, random_state=42)\n",
        "_, _, y2_train, y2_test = train_test_split(train_x, train_y2, test_size=0.2, random_state=42)\n",
        "\n",
        "\n",
        "# LGBM 모델\n",
        "lgbm_model_rent = lgb.LGBMRegressor()\n",
        "lgbm_model_return = lgb.LGBMRegressor()\n",
        "lgbm_model_rent.fit(X_train, y1_train)\n",
        "lgbm_model_return.fit(X_train, y2_train)\n",
        "\n",
        "# 함수화\n",
        "def evaluate_model(model, X_test, y_test):\n",
        "    y_pred = model.predict(X_test)\n",
        "    r2 = r2_score(y_test, y_pred)\n",
        "    mse = mean_squared_error(y_test, y_pred)\n",
        "    mae = mean_absolute_error(y_test, y_pred)\n",
        "    return r2, mse, mae, y_pred\n",
        "\n",
        "# 모델 평가\n",
        "lgbm_rent_metrics = evaluate_model(lgbm_model_rent, X_test, y1_test)\n",
        "lgbm_return_metrics = evaluate_model(lgbm_model_return, X_test, y2_test)\n",
        "\n",
        "# 결과 출력\n",
        "print(\"LGBM Rent Metrics:\")\n",
        "print(\"R2 Score:\", lgbm_rent_metrics[0])\n",
        "print(\"Mean Squared Error:\", lgbm_rent_metrics[1])\n",
        "print(\"Mean Absolute Error:\", lgbm_rent_metrics[2])\n",
        "\n",
        "print(\"LGBM Return Metrics:\")\n",
        "print(\"R2 Score:\", lgbm_return_metrics[0])\n",
        "print(\"Mean Squared Error:\", lgbm_return_metrics[1])\n",
        "print(\"Mean Absolute Error:\", lgbm_return_metrics[2])"
      ]
    },
    {
      "cell_type": "markdown",
      "metadata": {
        "id": "INDGv0fs6xbG"
      },
      "source": [
        "# OLS"
      ]
    },
    {
      "cell_type": "code",
      "execution_count": null,
      "metadata": {
        "id": "U0ylRSE452ya"
      },
      "outputs": [],
      "source": [
        "import pandas as pd\n",
        "import numpy as np\n",
        "import statsmodels.api as sm\n",
        "from sklearn.preprocessing import PolynomialFeatures\n",
        "from statsmodels.stats.outliers_influence import variance_inflation_factor\n",
        "from scipy import stats\n",
        "import matplotlib.pyplot as plt\n",
        "from sklearn.model_selection import train_test_split\n",
        "\n",
        "# 독립변수 및 종속변수 설정\n",
        "columns_to_keep = [col for col in df.columns if col not in ['대여건수', '반납건수']]\n",
        "train_x = df[columns_to_keep]\n",
        "train_y1 = df['대여건수']\n",
        "train_y2 = df['반납건수']\n",
        "\n",
        "# 데이터 분할\n",
        "X_train, X_test, y1_train, y1_test = train_test_split(train_x, train_y1, test_size=0.2, random_state=42)\n",
        "_, _, y2_train, y2_test = train_test_split(train_x, train_y2, test_size=0.2, random_state=42)\n",
        "\n",
        "def train_and_evaluate_ols(X_train, y_train, X_test, y_test, degree=2):\n",
        "    # 다항 특성 생성 (상수항 미포함, 상호 작용만 포함)\n",
        "    poly = PolynomialFeatures(degree, include_bias=False, interaction_only=True)\n",
        "    X_train_poly = poly.fit_transform(X_train)\n",
        "    X_test_poly = poly.transform(X_test)\n",
        "\n",
        "    # OLS 모델을 위해 상수항 추가\n",
        "    X_train_poly_with_constant = sm.add_constant(X_train_poly)\n",
        "\n",
        "    # OLS 모델 학습\n",
        "    model = sm.OLS(y_train, X_train_poly_with_constant).fit()\n",
        "\n",
        "    # 학습된 모델 요약 출력\n",
        "    print(model.summary())\n",
        "\n",
        "    # 예측 및 평가 지표 계산\n",
        "    X_test_poly_with_constant = sm.add_constant(X_test_poly)\n",
        "    y_pred = model.predict(X_test_poly_with_constant)\n",
        "    mse = np.mean((y_test - y_pred) ** 2)\n",
        "    rmse = np.sqrt(mse)\n",
        "\n",
        "    # 평가 지표 출력\n",
        "    print(\"Mean Squared Error:\", mse)\n",
        "    print(\"Root Mean Squared Error:\", rmse)\n",
        "\n",
        "# 대여건수에 대한 모델 학습 및 평가\n",
        "print(\"대여 모델 평가:\")\n",
        "train_and_evaluate_ols(X_train, y1_train, X_test, y1_test, degree=3)  # 예시로 degree를 3으로 설정했습니다. 필요에 따라 조정하세요.\n",
        "\n",
        "# 반납건수에 대한 모델 학습 및 평가\n",
        "print(\"반납 모델 평가:\")\n",
        "train_and_evaluate_ols(X_train, y2_train, X_test, y2_test, degree=3)  # 예시로 degree를 3으로 설정했습니다. 필요에 따라 조정하세요.\n"
      ]
    },
    {
      "cell_type": "markdown",
      "metadata": {
        "id": "oAfnhYYx7_Um"
      },
      "source": [
        "# LinearRegression"
      ]
    },
    {
      "cell_type": "code",
      "execution_count": null,
      "metadata": {
        "id": "9aEkqlmM7Ghr"
      },
      "outputs": [],
      "source": [
        "import pandas as pd\n",
        "import numpy as np\n",
        "from sklearn.model_selection import train_test_split\n",
        "from sklearn.linear_model import LinearRegression\n",
        "from sklearn.metrics import r2_score, mean_squared_error, mean_absolute_error\n",
        "from sklearn.preprocessing import PolynomialFeatures\n",
        "from statsmodels.stats.outliers_influence import variance_inflation_factor\n",
        "from scipy import stats\n",
        "import matplotlib.pyplot as plt\n",
        "import seaborn as sns\n",
        "\n",
        "# 독립변수 및 종속변수 설정\n",
        "columns_to_keep = [col for col in df.columns if col not in ['대여건수', '반납건수']]\n",
        "train_x = df[columns_to_keep]\n",
        "train_y1 = df['대여건수']\n",
        "train_y2 = df['반납건수']\n",
        "\n",
        "# 데이터 분할\n",
        "X_train, X_test, y1_train, y1_test = train_test_split(train_x, train_y1, test_size=0.2, random_state=42)\n",
        "_, _, y2_train, y2_test = train_test_split(train_x, train_y2, test_size=0.2, random_state=42)\n",
        "\n",
        "# 모델 평가 함수 정의\n",
        "def evaluate_model(model, X_train, y_train, X_test, y_test, poly_degree):\n",
        "    poly = PolynomialFeatures(degree=poly_degree)\n",
        "    X_train_poly = poly.fit_transform(X_train)\n",
        "    X_test_poly = poly.transform(X_test)\n",
        "\n",
        "    model.fit(X_train_poly, y_train)\n",
        "    y_pred = model.predict(X_test_poly)\n",
        "\n",
        "    r2 = r2_score(y_test, y_pred)\n",
        "    mse = mean_squared_error(y_test, y_pred)\n",
        "    rmse = np.sqrt(mse)\n",
        "    mae = mean_absolute_error(y_test, y_pred)\n",
        "\n",
        "    print(\"R-squared (결정 계수):\", r2)\n",
        "    print(\"평균 제곱 오차:\", mse)\n",
        "    print(\"평균 제곱근 오차:\", rmse)\n",
        "    print(\"평균 절대 오차:\", mae)\n",
        "\n",
        "model = LinearRegression()\n",
        "\n",
        "# y1에 대한 모델 학습 및 평가\n",
        "print(\"대여건수에 대한 모델 평가:\")\n",
        "evaluate_model(model, X_train, y1_train, X_test, y1_test, poly_degree=3)\n",
        "\n",
        "# y2에 대한 모델 학습 및 평가\n",
        "print(\"\\n반납건수에 대한 모델 평가:\")\n",
        "evaluate_model(model, X_train, y2_train, X_test, y2_test, poly_degree=3)"
      ]
    },
    {
      "cell_type": "markdown",
      "metadata": {
        "id": "FtvbLuxP8rMQ"
      },
      "source": [
        "# XGBOOST"
      ]
    },
    {
      "cell_type": "code",
      "execution_count": null,
      "metadata": {
        "id": "oKfpdEWz8H-p"
      },
      "outputs": [],
      "source": [
        "import pandas as pd\n",
        "import xgboost as xgb\n",
        "from sklearn.model_selection import train_test_split\n",
        "from sklearn.metrics import r2_score, mean_squared_error, explained_variance_score, mean_absolute_error\n",
        "import matplotlib.pyplot as plt\n",
        "\n",
        "\n",
        "# 독립변수 및 종속변수 설정\n",
        "columns_to_keep = [col for col in df.columns if col not in ['대여건수', '반납건수']]\n",
        "train_x = df[columns_to_keep]\n",
        "train_y1 = df['대여건수']\n",
        "train_y2 = df['반납건수']\n",
        "\n",
        "# 데이터 분할\n",
        "X_train, X_test, y1_train, y1_test = train_test_split(train_x, train_y1, test_size=0.2, random_state=42)\n",
        "_, _, y2_train, y2_test = train_test_split(train_x, train_y2, test_size=0.2, random_state=42)\n",
        "\n",
        "# 모델 작성\n",
        "xgb_model_rent = xgb.XGBRegressor()\n",
        "xgb_model_return = xgb.XGBRegressor()\n",
        "xgb_model_rent.fit(X_train, y1_train)\n",
        "xgb_model_return.fit(X_train, y2_train)\n",
        "\n",
        "# 모델 학습 및 평가\n",
        "def evaluate_model(model, X_test, y_test):\n",
        "    y_pred = model.predict(X_test)\n",
        "    r2 = r2_score(y_test, y_pred)\n",
        "    mse = mean_squared_error(y_test, y_pred)\n",
        "    mae = mean_absolute_error(y_test, y_pred)\n",
        "    return r2, mse, mae\n",
        "\n",
        "# XGBoost 모델 평가\n",
        "xgb_rent_metrics = evaluate_model(xgb_model_rent, X_test, y1_test)\n",
        "xgb_return_metrics = evaluate_model(xgb_model_return, X_test, y2_test)\n",
        "\n",
        "# 결과 출력\n",
        "print(\"XGBoost Rent Metrics:\")\n",
        "print(\"R2 Score:\", xgb_rent_metrics[0])\n",
        "print(\"Mean Squared Error:\", xgb_rent_metrics[1])\n",
        "print(\"Mean Absolute Error:\", xgb_rent_metrics[2])\n",
        "\n",
        "print(\"XGBoost Return Metrics:\")\n",
        "print(\"R2 Score:\", xgb_return_metrics[0])\n",
        "print(\"Mean Squared Error:\", xgb_return_metrics[1])\n",
        "print(\"Mean Absolute Error:\", xgb_return_metrics[2])\n"
      ]
    },
    {
      "cell_type": "code",
      "execution_count": null,
      "metadata": {
        "id": "1pHCi8YA846_"
      },
      "outputs": [],
      "source": []
    }
  ],
  "metadata": {
    "colab": {
      "private_outputs": true,
      "provenance": []
    },
    "kernelspec": {
      "display_name": "Python 3",
      "name": "python3"
    },
    "language_info": {
      "name": "python"
    }
  },
  "nbformat": 4,
  "nbformat_minor": 0
}
